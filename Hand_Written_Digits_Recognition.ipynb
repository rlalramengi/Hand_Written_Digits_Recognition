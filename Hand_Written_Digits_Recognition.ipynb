{
  "nbformat": 4,
  "nbformat_minor": 0,
  "metadata": {
    "colab": {
      "name": "Hand_Written_Digits_Recognition.ipynb",
      "provenance": [],
      "authorship_tag": "ABX9TyPRsepVE+hgmvOeZcQ4CxWx",
      "include_colab_link": true
    },
    "kernelspec": {
      "name": "python3",
      "display_name": "Python 3"
    },
    "language_info": {
      "name": "python"
    }
  },
  "cells": [
    {
      "cell_type": "markdown",
      "metadata": {
        "id": "view-in-github",
        "colab_type": "text"
      },
      "source": [
        "<a href=\"https://colab.research.google.com/github/rlalramengi/Hand_Written_Digits_Recognition/blob/main/Hand_Written_Digits_Recognition.ipynb\" target=\"_parent\"><img src=\"https://colab.research.google.com/assets/colab-badge.svg\" alt=\"Open In Colab\"/></a>"
      ]
    },
    {
      "cell_type": "markdown",
      "source": [
        "# Importing Libraries"
      ],
      "metadata": {
        "id": "aosxgB519vly"
      }
    },
    {
      "cell_type": "code",
      "execution_count": null,
      "metadata": {
        "id": "xzhSnrs99S8g"
      },
      "outputs": [],
      "source": [
        "import numpy as np\n",
        "from keras.datasets import mnist\n",
        "import matplotlib.pyplot as plt\n",
        "import tensorflow as tf\n",
        "from keras.preprocessing.image import ImageDataGenerator"
      ]
    },
    {
      "cell_type": "markdown",
      "source": [
        "## Loading DataSet"
      ],
      "metadata": {
        "id": "VQ9Pp5ot-Pza"
      }
    },
    {
      "cell_type": "code",
      "source": [
        "(trainX, trainY) , (testX, testY) = mnist.load_data()\n",
        "print(trainX.shape, trainY.shape)\n",
        "print(testX.shape, testY.shape)"
      ],
      "metadata": {
        "colab": {
          "base_uri": "https://localhost:8080/"
        },
        "id": "9i_nKdcL-PG-",
        "outputId": "a9cde5f2-2da0-4b57-f529-88d32f4ce6fc"
      },
      "execution_count": null,
      "outputs": [
        {
          "output_type": "stream",
          "name": "stdout",
          "text": [
            "(60000, 28, 28) (60000,)\n",
            "(10000, 28, 28) (10000,)\n"
          ]
        }
      ]
    },
    {
      "cell_type": "code",
      "source": [
        "print(trainX[30])"
      ],
      "metadata": {
        "colab": {
          "base_uri": "https://localhost:8080/"
        },
        "id": "UG6mMP0q-xsf",
        "outputId": "8e767dfe-10df-4897-ba8e-cb9242530da4"
      },
      "execution_count": null,
      "outputs": [
        {
          "output_type": "stream",
          "name": "stdout",
          "text": [
            "[[  0   0   0   0   0   0   0   0   0   0   0   0   0   0   0   0   0   0\n",
            "    0   0   0   0   0   0   0   0   0   0]\n",
            " [  0   0   0   0   0   0   0   0   0   0   0   0   0   0   0   0   0   0\n",
            "    0   0   0   0   0   0   0   0   0   0]\n",
            " [  0   0   0   0   0   0   0   0   0   0   0   0   0   0   0   0   0   0\n",
            "    0   0   0   0   0   0   0   0   0   0]\n",
            " [  0   0   0   0   0   0   0   0   0   0   0   0   0   0   0   0   0   0\n",
            "    0   0   0   0   0   0   0   0   0   0]\n",
            " [  0   0   0   0   0   0   0   0   0   0   0   0   0   0   0   0   0   0\n",
            "    0   0   0   0   0   0   0   0   0   0]\n",
            " [  0   0   0   0   0   0   0   0   0   0   0   0   0   0   0   0   0   0\n",
            "    0   0   0   0   0   0   0   0   0   0]\n",
            " [  0   0   0   0   0   0   0   0   0   0   0   0   0   0   0   0   0   0\n",
            "    0   0   0   0   0   0   0   0   0   0]\n",
            " [  0   0   0   0   0  11  19  95 143 143 143 143 143 143 143 143  33   0\n",
            "    0   0   0   0   0   0   0   0   0   0]\n",
            " [  0   0   0  90 149 208 253 253 253 253 253 253 253 253 253 253 217  22\n",
            "    0   0   0   0   0   0   0   0   0   0]\n",
            " [  0   0   0 255 253 251 222 222 161 140  99  99  99  99 143 253 253 113\n",
            "    0   0   0   0   0   0   0   0   0   0]\n",
            " [  0   0   0 217 210  86   0   0   0   0   0   0   0  29 161 253 253  82\n",
            "    0   0   0   0   0   0   0   0   0   0]\n",
            " [  0   0   0   0   0   0   0   0   0   0   0   0  33 203 253 253 174  13\n",
            "    0   0   0   0   0   0   0   0   0   0]\n",
            " [  0   0   0   0   0   0   0   0   0   0  10  78 232 253 253 253  43   0\n",
            "    0   0   0   0   0   0   0   0   0   0]\n",
            " [  0   0   0   0   0   0   0   0   0   0 138 253 253 253 253 253 192 180\n",
            "  180 128  32   0   0   0   0   0   0   0]\n",
            " [  0   0   0   0   0   0   0   0   0   0 174 253 253 253 253 253 253 253\n",
            "  253 253 169   3   0   0   0   0   0   0]\n",
            " [  0   0   0   0   0   0   0   0   0   0  42  61  61  61  61  83 176  79\n",
            "  110 247 253 195   4   0   0   0   0   0]\n",
            " [  0   0   0   0   0   0   0   0   0   0   0   0   0   0  59 192  30   0\n",
            "    0  50 203 253  42   0   0   0   0   0]\n",
            " [  0   0   0   0   0   0   0   0   0   0   0   0   0  56 195  57   0   0\n",
            "    0   0 112 253 229   0   0   0   0   0]\n",
            " [  0   0   0   0   0   0   0   0   0   0   0   0   0 172 204  17   0   0\n",
            "    0   0  58 248 253   0   0   0   0   0]\n",
            " [  0   0   0   0   0   0   0   0   0   0   0   0   0 192 253 184  62   0\n",
            "    0  85 164 253 253   0   0   0   0   0]\n",
            " [  0   0   0   0   0   0   0   0   0   0   0   0   0 144 253 253 243 223\n",
            "  223 250 253 253  96   0   0   0   0   0]\n",
            " [  0   0   0   0   0   0   0   0   0   0   0   0   0   7 152 253 253 253\n",
            "  253 253 253 152   3   0   0   0   0   0]\n",
            " [  0   0   0   0   0   0   0   0   0   0   0   0   0   0   6  18 122 141\n",
            "  141 141  87   1   0   0   0   0   0   0]\n",
            " [  0   0   0   0   0   0   0   0   0   0   0   0   0   0   0   0   0   0\n",
            "    0   0   0   0   0   0   0   0   0   0]\n",
            " [  0   0   0   0   0   0   0   0   0   0   0   0   0   0   0   0   0   0\n",
            "    0   0   0   0   0   0   0   0   0   0]\n",
            " [  0   0   0   0   0   0   0   0   0   0   0   0   0   0   0   0   0   0\n",
            "    0   0   0   0   0   0   0   0   0   0]\n",
            " [  0   0   0   0   0   0   0   0   0   0   0   0   0   0   0   0   0   0\n",
            "    0   0   0   0   0   0   0   0   0   0]\n",
            " [  0   0   0   0   0   0   0   0   0   0   0   0   0   0   0   0   0   0\n",
            "    0   0   0   0   0   0   0   0   0   0]]\n"
          ]
        }
      ]
    },
    {
      "cell_type": "code",
      "source": [
        "print(trainY[30])"
      ],
      "metadata": {
        "colab": {
          "base_uri": "https://localhost:8080/"
        },
        "id": "Xz9Htyqk_bGq",
        "outputId": "fde65365-8cbe-423c-9334-8355a326da70"
      },
      "execution_count": null,
      "outputs": [
        {
          "output_type": "stream",
          "name": "stdout",
          "text": [
            "3\n"
          ]
        }
      ]
    },
    {
      "cell_type": "markdown",
      "source": [
        "### Normalizing Data"
      ],
      "metadata": {
        "id": "Omsz6xSU_XS7"
      }
    },
    {
      "cell_type": "code",
      "source": [
        "trainX = trainX.astype('float32')/255.0\n",
        "testX = testX.astype('float32')/255.0"
      ],
      "metadata": {
        "id": "MHByJQN2-uYA"
      },
      "execution_count": null,
      "outputs": []
    },
    {
      "cell_type": "markdown",
      "source": [
        "### Ploting Data"
      ],
      "metadata": {
        "id": "0CnkDYnNA9Cx"
      }
    },
    {
      "cell_type": "code",
      "source": [
        "plt.figure(figsize=(10,10))\n",
        "for i in range(16):\n",
        "    plt.subplot(4,4,i+1)\n",
        "    plt.imshow(trainX[i], cmap = plt.get_cmap('gray'))\n",
        "plt.show()"
      ],
      "metadata": {
        "colab": {
          "base_uri": "https://localhost:8080/",
          "height": 593
        },
        "id": "o3NIUhRqA7wO",
        "outputId": "9ebc451a-88ea-4588-ecfc-21bbd49e4d8e"
      },
      "execution_count": null,
      "outputs": [
        {
          "output_type": "display_data",
          "data": {
            "text/plain": [
              "<Figure size 720x720 with 16 Axes>"
            ],
            "image/png": "[encoded data removed]"
          },
          "metadata": {
            "needs_background": "light"
          }
        }
      ]
    },
    {
      "cell_type": "markdown",
      "source": [
        "### Creating Model"
      ],
      "metadata": {
        "id": "9bus36dKBfHo"
      }
    },
    {
      "cell_type": "code",
      "source": [
        "model = tf.keras.Sequential()\n",
        "model.add(tf.keras.layers.Conv2D(filters=32, kernel_size=3 , activation='relu', input_shape=(28,28,1))) # after applying conv layer we will get convolved feature\n",
        "\n",
        "# After that we are going to add a max-pool layer\n",
        "model.add(tf.keras.layers.MaxPool2D((2,2)))\n",
        "\n",
        "# Creating another convolution layer\n",
        "model.add(tf.keras.layers.Conv2D(filters = 48, kernel_size=3, activation='relu'))\n",
        "\n",
        "model.add(tf.keras.layers.MaxPool2D((2,2)))\n",
        "\n",
        "#Now we are going to add a Dropout layer\n",
        "model.add(tf.keras.layers.Dropout(0.5))\n",
        "\n",
        "#we are going to add Flatten\n",
        "model.add(tf.keras.layers.Flatten())\n",
        "\n",
        "#Now we are going to add Dense layer\n",
        "\n",
        "model.add(tf.keras.layers.Dense(units = 500, activation='relu'))\n",
        "\n",
        "# Adding Output layer\n",
        "model.add(tf.keras.layers.Dense(units=10,activation='softmax'))\n",
        "\n"
      ],
      "metadata": {
        "id": "YhAFhzMUBX-2"
      },
      "execution_count": null,
      "outputs": []
    },
    {
      "cell_type": "code",
      "source": [
        "model.summary()"
      ],
      "metadata": {
        "colab": {
          "base_uri": "https://localhost:8080/"
        },
        "id": "ErUynPOWEWjz",
        "outputId": "be9780ed-64be-4e31-925a-7ed559a18046"
      },
      "execution_count": null,
      "outputs": [
        {
          "output_type": "stream",
          "name": "stdout",
          "text": [
            "Model: \"sequential\"\n",
            "_________________________________________________________________\n",
            " Layer (type)                Output Shape              Param #   \n",
            "=================================================================\n",
            " conv2d (Conv2D)             (None, 26, 26, 32)        320       \n",
            "                                                                 \n",
            " max_pooling2d (MaxPooling2D  (None, 13, 13, 32)       0         \n",
            " )                                                               \n",
            "                                                                 \n",
            " conv2d_1 (Conv2D)           (None, 11, 11, 48)        13872     \n",
            "                                                                 \n",
            " max_pooling2d_1 (MaxPooling  (None, 5, 5, 48)         0         \n",
            " 2D)                                                             \n",
            "                                                                 \n",
            " dropout (Dropout)           (None, 5, 5, 48)          0         \n",
            "                                                                 \n",
            " flatten (Flatten)           (None, 1200)              0         \n",
            "                                                                 \n",
            " dense (Dense)               (None, 500)               600500    \n",
            "                                                                 \n",
            " dense_1 (Dense)             (None, 10)                5010      \n",
            "                                                                 \n",
            "=================================================================\n",
            "Total params: 619,702\n",
            "Trainable params: 619,702\n",
            "Non-trainable params: 0\n",
            "_________________________________________________________________\n"
          ]
        }
      ]
    },
    {
      "cell_type": "markdown",
      "source": [
        "### Ploting Our Model"
      ],
      "metadata": {
        "id": "GQcwSLcYGjUn"
      }
    },
    {
      "cell_type": "code",
      "source": [
        "tf.keras.utils.plot_model(model,'MyModel.jpg',show_dtype=True)"
      ],
      "metadata": {
        "colab": {
          "base_uri": "https://localhost:8080/",
          "height": 856
        },
        "id": "N32vShjOGnIs",
        "outputId": "07ddff44-5228-4e86-9402-a601734f435b"
      },
      "execution_count": null,
      "outputs": [
        {
          "output_type": "execute_result",
          "data": {
            "text/plain": [
              "<IPython.core.display.Image object>"
            ],
            "image/jpeg": "[encoded data removed]"
          },
          "metadata": {},
          "execution_count": 9
        }
      ]
    },
    {
      "cell_type": "markdown",
      "source": [
        "## Compiling Our model"
      ],
      "metadata": {
        "id": "eMAsvNC1G7X2"
      }
    },
    {
      "cell_type": "code",
      "source": [
        "model.compile(optimizer='adam',  loss=\"sparse_categorical_crossentropy\", metrics=[\"accuracy\"])"
      ],
      "metadata": {
        "id": "foCoR39tG0kJ"
      },
      "execution_count": null,
      "outputs": []
    },
    {
      "cell_type": "markdown",
      "source": [
        "# Traing Our Data"
      ],
      "metadata": {
        "id": "TqSigqUNH7JI"
      }
    },
    {
      "cell_type": "code",
      "source": [
        "x = model.fit(trainX, trainY, batch_size=128, epochs=10, verbose=2, validation_split=0.1)"
      ],
      "metadata": {
        "colab": {
          "base_uri": "https://localhost:8080/"
        },
        "id": "r3AQA0MbH6Jj",
        "outputId": "b87a687c-e3d9-4833-b54e-bf6030164b76"
      },
      "execution_count": null,
      "outputs": [
        {
          "output_type": "stream",
          "name": "stdout",
          "text": [
            "Epoch 1/10\n",
            "422/422 - 41s - loss: 0.2490 - accuracy: 0.9238 - val_loss: 0.0587 - val_accuracy: 0.9835 - 41s/epoch - 98ms/step\n",
            "Epoch 2/10\n",
            "422/422 - 45s - loss: 0.0803 - accuracy: 0.9753 - val_loss: 0.0426 - val_accuracy: 0.9875 - 45s/epoch - 106ms/step\n",
            "Epoch 3/10\n",
            "422/422 - 43s - loss: 0.0607 - accuracy: 0.9807 - val_loss: 0.0320 - val_accuracy: 0.9902 - 43s/epoch - 103ms/step\n",
            "Epoch 4/10\n",
            "422/422 - 39s - loss: 0.0479 - accuracy: 0.9847 - val_loss: 0.0308 - val_accuracy: 0.9920 - 39s/epoch - 93ms/step\n",
            "Epoch 5/10\n",
            "422/422 - 40s - loss: 0.0414 - accuracy: 0.9866 - val_loss: 0.0283 - val_accuracy: 0.9923 - 40s/epoch - 95ms/step\n",
            "Epoch 6/10\n",
            "422/422 - 39s - loss: 0.0356 - accuracy: 0.9883 - val_loss: 0.0238 - val_accuracy: 0.9942 - 39s/epoch - 92ms/step\n",
            "Epoch 7/10\n",
            "422/422 - 39s - loss: 0.0312 - accuracy: 0.9899 - val_loss: 0.0244 - val_accuracy: 0.9933 - 39s/epoch - 94ms/step\n",
            "Epoch 8/10\n",
            "422/422 - 39s - loss: 0.0284 - accuracy: 0.9906 - val_loss: 0.0252 - val_accuracy: 0.9927 - 39s/epoch - 92ms/step\n",
            "Epoch 9/10\n",
            "422/422 - 39s - loss: 0.0251 - accuracy: 0.9917 - val_loss: 0.0223 - val_accuracy: 0.9943 - 39s/epoch - 92ms/step\n",
            "Epoch 10/10\n",
            "422/422 - 39s - loss: 0.0243 - accuracy: 0.9916 - val_loss: 0.0232 - val_accuracy: 0.9942 - 39s/epoch - 92ms/step\n"
          ]
        }
      ]
    },
    {
      "cell_type": "markdown",
      "source": [
        "## Evaluating Test Set"
      ],
      "metadata": {
        "id": "3hV7XitOIlnM"
      }
    },
    {
      "cell_type": "code",
      "source": [
        "loss, accuracy = model.evaluate(testX , testY)"
      ],
      "metadata": {
        "colab": {
          "base_uri": "https://localhost:8080/"
        },
        "id": "4wFoVLYJIPBU",
        "outputId": "08ad211a-8d9b-4b3e-e7cf-4745855fa36b"
      },
      "execution_count": null,
      "outputs": [
        {
          "output_type": "stream",
          "name": "stdout",
          "text": [
            "313/313 [==============================] - 3s 11ms/step - loss: 0.0205 - accuracy: 0.9929\n"
          ]
        }
      ]
    },
    {
      "cell_type": "markdown",
      "source": [
        "# Checking Result"
      ],
      "metadata": {
        "id": "a8oefU7PKBKh"
      }
    },
    {
      "cell_type": "code",
      "source": [
        "plt.imshow(testX[10])\n",
        "pred = model.predict(testX)\n",
        "print(\"Model Prediction is: \", np.argmax(pred[10]))"
      ],
      "metadata": {
        "colab": {
          "base_uri": "https://localhost:8080/",
          "height": 283
        },
        "id": "I08GhHhMJ0Pg",
        "outputId": "0d6ca1ff-a771-4758-b104-51ae03b1d8f8"
      },
      "execution_count": null,
      "outputs": [
        {
          "output_type": "stream",
          "name": "stdout",
          "text": [
            "Model Prediction is:  0\n"
          ]
        },
        {
          "output_type": "display_data",
          "data": {
            "text/plain": [
              "<Figure size 432x288 with 1 Axes>"
            ],
            "image/png": "[encoded data removed]"
          },
          "metadata": {
            "needs_background": "light"
          }
        }
      ]
    },
    {
      "cell_type": "code",
      "source": [
        "plt.imshow(testX[100])\n",
        "pred = model.predict(testX)\n",
        "print(\"Model Prediction is: \", np.argmax(pred[100]))"
      ],
      "metadata": {
        "colab": {
          "base_uri": "https://localhost:8080/",
          "height": 283
        },
        "id": "rHRUid2jKQSI",
        "outputId": "184945c3-89e7-4650-e176-bcef984d488a"
      },
      "execution_count": null,
      "outputs": [
        {
          "output_type": "stream",
          "name": "stdout",
          "text": [
            "Model Prediction is:  6\n"
          ]
        },
        {
          "output_type": "display_data",
          "data": {
            "text/plain": [
              "<Figure size 432x288 with 1 Axes>"
            ],
            "image/png": "[encoded data removed]"
          },
          "metadata": {
            "needs_background": "light"
          }
        }
      ]
    },
    {
      "cell_type": "code",
      "source": [
        "plt.imshow(testX[900])\n",
        "pred = model.predict(testX)\n",
        "print(\"Model Prediction is: \", np.argmax(pred[900]))"
      ],
      "metadata": {
        "colab": {
          "base_uri": "https://localhost:8080/",
          "height": 283
        },
        "id": "-PJc2Y33LDKN",
        "outputId": "798b3e3a-4dc3-48e1-8a63-720b23e39070"
      },
      "execution_count": null,
      "outputs": [
        {
          "output_type": "stream",
          "name": "stdout",
          "text": [
            "Model Prediction is:  1\n"
          ]
        },
        {
          "output_type": "display_data",
          "data": {
            "text/plain": [
              "<Figure size 432x288 with 1 Axes>"
            ],
            "image/png": "[encoded data removed]"
          },
          "metadata": {
            "needs_background": "light"
          }
        }
      ]
    },
    {
      "cell_type": "code",
      "source": [
        "plt.imshow(testX[9999])\n",
        "pred = model.predict(testX)\n",
        "print(\"Model Prediction is: \", np.argmax(pred[9999]))"
      ],
      "metadata": {
        "colab": {
          "base_uri": "https://localhost:8080/",
          "height": 283
        },
        "id": "FQlRuEXZM5pU",
        "outputId": "b72400bc-a888-4523-a1cc-f4c4a44713f1"
      },
      "execution_count": null,
      "outputs": [
        {
          "output_type": "stream",
          "name": "stdout",
          "text": [
            "Model Prediction is:  6\n"
          ]
        },
        {
          "output_type": "display_data",
          "data": {
            "text/plain": [
              "<Figure size 432x288 with 1 Axes>"
            ],
            "image/png": "[encoded data removed]"
          },
          "metadata": {
            "needs_background": "light"
          }
        }
      ]
    }
  ]
}